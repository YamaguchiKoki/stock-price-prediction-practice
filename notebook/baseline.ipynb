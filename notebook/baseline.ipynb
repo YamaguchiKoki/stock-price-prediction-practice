{
 "cells": [
  {
   "cell_type": "code",
   "execution_count": 1,
   "metadata": {},
   "outputs": [],
   "source": [
    "import sys\n",
    "from pathlib import Path\n",
    "\n",
    "# ベースラインモデルとして、時系列順に8:2で分割して学習データと検証データを作成し、勾配ブースティング木モデルのスコアを記録する\n",
    "# プロジェクトルートのパスを通す\n",
    "sys.path.append(str(Path.cwd().parent))"
   ]
  },
  {
   "cell_type": "code",
   "execution_count": 2,
   "metadata": {},
   "outputs": [
    {
     "name": "stdout",
     "output_type": "stream",
     "text": [
      "Open     0\n",
      "High     0\n",
      "Low      0\n",
      "Close    0\n",
      "Up       0\n",
      "dtype: int64\n",
      "(2026, 5)\n"
     ]
    },
    {
     "name": "stderr",
     "output_type": "stream",
     "text": [
      "/Users/kokiyamaguchi/Documents/projects/competitions/stock-prediction-practice/.venv/lib/python3.13/site-packages/pandas/core/indexes/base.py:7588: FutureWarning: Dtype inference on a pandas object (Series, Index, ExtensionArray) is deprecated. The Index constructor will keep the original dtype in the future. Call `infer_objects` on the result to get the old behavior.\n",
      "  return Index(sequences[0], name=names)\n",
      "/Users/kokiyamaguchi/Documents/projects/competitions/stock-prediction-practice/.venv/lib/python3.13/site-packages/pandas/core/indexes/base.py:7588: FutureWarning: Dtype inference on a pandas object (Series, Index, ExtensionArray) is deprecated. The Index constructor will keep the original dtype in the future. Call `infer_objects` on the result to get the old behavior.\n",
      "  return Index(sequences[0], name=names)\n"
     ]
    }
   ],
   "source": [
    "from src.utils.env import EnvConfig\n",
    "import pandas as pd\n",
    "\n",
    "config = EnvConfig()\n",
    "train_data_path = config.abs_input_dir / 'train.csv'\n",
    "test_data_path = config.abs_input_dir / 'test.csv'\n",
    "\n",
    "df = pd.read_csv(train_data_path)\n",
    "df_test = pd.read_csv(test_data_path)\n",
    "\n",
    "# インデックスを日付に変換\n",
    "df.loc[:, \"Date\"] = pd.to_datetime(df.loc[:, \"Date\"])\n",
    "df.set_index(\"Date\", inplace=True)\n",
    "df_test.loc[:, \"Date\"] = pd.to_datetime(df_test.loc[:, \"Date\"])\n",
    "df_test.set_index(\"Date\", inplace=True)\n",
    "\n",
    "print(df.isna().sum())\n",
    "print(df.shape)\n"
   ]
  },
  {
   "cell_type": "code",
   "execution_count": 3,
   "metadata": {},
   "outputs": [
    {
     "name": "stdout",
     "output_type": "stream",
     "text": [
      "             Open   High    Low  Close\n",
      "Date                                  \n",
      "2004-01-02  50.85  50.91  50.62  50.72\n",
      "2004-01-05  50.75  50.84  50.61  50.79\n",
      "2004-01-06  50.87  51.26  50.86  51.15\n",
      "2004-01-07  51.45  51.54  51.29  51.51\n",
      "2004-01-08  51.15  51.33  51.02  51.28\n",
      "Date\n",
      "2004-01-02    1\n",
      "2004-01-05    1\n",
      "2004-01-06    1\n",
      "2004-01-07    0\n",
      "2004-01-08    0\n",
      "Name: Up, dtype: int64\n"
     ]
    }
   ],
   "source": [
    "X_data = df.drop(columns=['Up'], inplace=False)\n",
    "y_data = df.loc[:, \"Up\"]\n",
    "\n",
    "print(X_data.head())\n",
    "print(y_data.head())"
   ]
  },
  {
   "cell_type": "code",
   "execution_count": 4,
   "metadata": {},
   "outputs": [
    {
     "data": {
      "image/png": "[encoded data removed]",
      "text/plain": [
       "<Figure size 640x480 with 1 Axes>"
      ]
     },
     "metadata": {},
     "output_type": "display_data"
    }
   ],
   "source": [
    "from sklearn.model_selection import train_test_split\n",
    "from matplotlib import pyplot as plt\n",
    "\n",
    "X_train, X_val, y_train, y_val = train_test_split(X_data, y_data, test_size=0.2, shuffle=False)\n",
    "\n",
    "X_train['Close'].plot(kind='line')\n",
    "\n",
    "X_val['Close'].plot(kind='line')\n",
    "\n",
    "plt.legend(['Train', 'Val'])\n",
    "\n",
    "plt.show()"
   ]
  },
  {
   "cell_type": "code",
   "execution_count": 5,
   "metadata": {},
   "outputs": [
    {
     "name": "stdout",
     "output_type": "stream",
     "text": [
      "{'objective': 'reg:squarederror', 'eval_metric': 'rmse', 'eta': 0.1, 'max_depth': 3, 'colsample_bytree': 0.8, 'subsample': 0.8, 'early_stopping_rounds': 50, 'num_round': 1000}\n"
     ]
    },
    {
     "data": {
      "text/html": [
       "<div>\n",
       "<style scoped>\n",
       "    .dataframe tbody tr th:only-of-type {\n",
       "        vertical-align: middle;\n",
       "    }\n",
       "\n",
       "    .dataframe tbody tr th {\n",
       "        vertical-align: top;\n",
       "    }\n",
       "\n",
       "    .dataframe thead th {\n",
       "        text-align: right;\n",
       "    }\n",
       "</style>\n",
       "<table border=\"1\" class=\"dataframe\">\n",
       "  <thead>\n",
       "    <tr style=\"text-align: right;\">\n",
       "      <th></th>\n",
       "      <th>RMSE</th>\n",
       "      <th>R2</th>\n",
       "    </tr>\n",
       "  </thead>\n",
       "  <tbody>\n",
       "    <tr>\n",
       "      <th>0</th>\n",
       "      <td>0.250998</td>\n",
       "      <td>-0.008792</td>\n",
       "    </tr>\n",
       "  </tbody>\n",
       "</table>\n",
       "</div>"
      ],
      "text/plain": [
       "       RMSE        R2\n",
       "0  0.250998 -0.008792"
      ]
     },
     "execution_count": 5,
     "metadata": {},
     "output_type": "execute_result"
    }
   ],
   "source": [
    "from src.models.model_xgb import ModelXGB\n",
    "from src.metrics import regression_metrics\n",
    "\n",
    "params = {\n",
    "    \"objective\": \"reg:squarederror\",\n",
    "    \"eval_metric\": \"rmse\",\n",
    "    \"eta\": 0.1,\n",
    "    \"max_depth\": 3,\n",
    "    \"colsample_bytree\": 0.8,\n",
    "    \"subsample\": 0.8,\n",
    "    \"early_stopping_rounds\": 50,\n",
    "    \"num_round\": 1000\n",
    "}\n",
    "\n",
    "\n",
    "model = ModelXGB(run_fold_name='xgb_baseline', params=params)\n",
    "model.train(X_train, y_train, X_val, y_val)\n",
    "regression_metrics(model, X_val, y_val)\n",
    "\n"
   ]
  }
 ],
 "metadata": {
  "kernelspec": {
   "display_name": ".venv",
   "language": "python",
   "name": "python3"
  },
  "language_info": {
   "codemirror_mode": {
    "name": "ipython",
    "version": 3
   },
   "file_extension": ".py",
   "mimetype": "text/x-python",
   "name": "python",
   "nbconvert_exporter": "python",
   "pygments_lexer": "ipython3",
   "version": "3.13.1"
  }
 },
 "nbformat": 4,
 "nbformat_minor": 2
}
